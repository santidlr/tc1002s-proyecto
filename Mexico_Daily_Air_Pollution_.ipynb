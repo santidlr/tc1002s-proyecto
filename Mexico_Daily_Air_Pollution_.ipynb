{
  "cells": [
    {
      "cell_type": "markdown",
      "metadata": {
        "id": "kOoNqWU9Mioz"
      },
      "source": [
        "#Mexico Daily Air Pollution \n",
        "\n",
        "Hector Emil Grijalva Sanchez A01643459 \n",
        "\n",
        "Adolfo Hernández Signoret A01637184\n",
        "\n",
        "David Alejandro González Ibarra A01633817\n",
        "\n",
        "Santiago De Lira Robles A01635258\n"
      ]
    },
    {
      "cell_type": "code",
      "execution_count": null,
      "metadata": {
        "id": "9DcMNepYAU1Y"
      },
      "outputs": [],
      "source": [
        "import pandas as pd\n",
        "import numpy as np\n",
        "import statistics\n",
        "DAQI=pd.read_csv('stations_daily.csv') #DAQI=Daily Air Quality Index"
      ]
    },
    {
      "cell_type": "code",
      "execution_count": null,
      "metadata": {
        "colab": {
          "base_uri": "https://localhost:8080/",
          "height": 661
        },
        "id": "PmOK-cw-Cr_J",
        "outputId": "28906687-f202-4d8c-a739-d4c4d8c99487"
      },
      "outputs": [
        {
          "output_type": "execute_result",
          "data": {
            "text/plain": [
              "          datetime  station_id      PM2.5       PM10       NOx        O3  \\\n",
              "0       2015-04-02          32        NaN        NaN       NaN       NaN   \n",
              "1       2015-05-21          32   0.454967   0.347400  0.059194  0.029176   \n",
              "2       2015-05-22          32   0.077821   0.389323  0.019158  0.051903   \n",
              "3       2015-05-23          32   0.018036   0.387729  0.019711  0.021092   \n",
              "4       2015-05-24          32   0.024935   0.398042  0.024757  0.009568   \n",
              "...            ...         ...        ...        ...       ...       ...   \n",
              "231587  2021-12-27         426  28.956522  67.375000  0.036429  0.030750   \n",
              "231588  2021-12-28         426  20.818182  55.833333  0.037508  0.026792   \n",
              "231589  2021-12-29         426  16.857143  51.458333  0.045588  0.017083   \n",
              "231590  2021-12-30         426  21.555556  51.750000  0.037229  0.029833   \n",
              "231591  2021-12-31         426  27.894737  60.291667  0.037571  0.032000   \n",
              "\n",
              "              CO         HR        NO       NO2  ...  HCT  HRI  IUV  \\\n",
              "0            NaN        NaN       NaN       NaN  ...  NaN  NaN  NaN   \n",
              "1            NaN  44.879091  0.029525  0.053121  ...  NaN  NaN  NaN   \n",
              "2            NaN  42.506000  0.009589  0.014215  ...  NaN  NaN  NaN   \n",
              "3       0.144603  54.734437  0.009863  0.013436  ...  NaN  NaN  NaN   \n",
              "4       0.494143  58.374574  0.012397  0.010337  ...  NaN  NaN  NaN   \n",
              "...          ...        ...       ...       ...  ...  ...  ...  ...   \n",
              "231587  1.684583  56.541667       NaN  0.024762  ...  NaN  NaN  NaN   \n",
              "231588  1.700000  44.375000       NaN  0.023225  ...  NaN  NaN  NaN   \n",
              "231589  1.732917  37.875000       NaN  0.026500  ...  NaN  NaN  NaN   \n",
              "231590  1.520000  42.916667       NaN  0.023929  ...  NaN  NaN  NaN   \n",
              "231591  1.570833  47.375000       NaN  0.026254  ...  NaN  NaN  NaN   \n",
              "\n",
              "                PB        PP  PST          RS       TMPI  UVA  XIL  \n",
              "0              NaN       NaN  NaN         NaN  32.361000  NaN  NaN  \n",
              "1       570.775455  0.296364  NaN    7.871636  16.792818  NaN  NaN  \n",
              "2       558.360000  0.002750  NaN  384.788079  17.018949  NaN  NaN  \n",
              "3       573.282187  0.038750  NaN  252.605975  18.575000  NaN  NaN  \n",
              "4       572.169574  0.003404  NaN  259.231664  16.781064  NaN  NaN  \n",
              "...            ...       ...  ...         ...        ...  ...  ...  \n",
              "231587  708.600000  0.000000  NaN  136.416667        NaN  NaN  NaN  \n",
              "231588  705.670833  0.000000  NaN  136.875000        NaN  NaN  NaN  \n",
              "231589  707.687500  0.000000  NaN  108.708333        NaN  NaN  NaN  \n",
              "231590  710.141667  0.000000  NaN  129.666667        NaN  NaN  NaN  \n",
              "231591  707.454167  0.000000  NaN  134.000000        NaN  NaN  NaN  \n",
              "\n",
              "[231592 rows x 27 columns]"
            ],
            "text/html": [
              "\n",
              "  <div id=\"df-7aef2678-a387-4f78-a9fe-0108ffb16abe\">\n",
              "    <div class=\"colab-df-container\">\n",
              "      <div>\n",
              "<style scoped>\n",
              "    .dataframe tbody tr th:only-of-type {\n",
              "        vertical-align: middle;\n",
              "    }\n",
              "\n",
              "    .dataframe tbody tr th {\n",
              "        vertical-align: top;\n",
              "    }\n",
              "\n",
              "    .dataframe thead th {\n",
              "        text-align: right;\n",
              "    }\n",
              "</style>\n",
              "<table border=\"1\" class=\"dataframe\">\n",
              "  <thead>\n",
              "    <tr style=\"text-align: right;\">\n",
              "      <th></th>\n",
              "      <th>datetime</th>\n",
              "      <th>station_id</th>\n",
              "      <th>PM2.5</th>\n",
              "      <th>PM10</th>\n",
              "      <th>NOx</th>\n",
              "      <th>O3</th>\n",
              "      <th>CO</th>\n",
              "      <th>HR</th>\n",
              "      <th>NO</th>\n",
              "      <th>NO2</th>\n",
              "      <th>...</th>\n",
              "      <th>HCT</th>\n",
              "      <th>HRI</th>\n",
              "      <th>IUV</th>\n",
              "      <th>PB</th>\n",
              "      <th>PP</th>\n",
              "      <th>PST</th>\n",
              "      <th>RS</th>\n",
              "      <th>TMPI</th>\n",
              "      <th>UVA</th>\n",
              "      <th>XIL</th>\n",
              "    </tr>\n",
              "  </thead>\n",
              "  <tbody>\n",
              "    <tr>\n",
              "      <th>0</th>\n",
              "      <td>2015-04-02</td>\n",
              "      <td>32</td>\n",
              "      <td>NaN</td>\n",
              "      <td>NaN</td>\n",
              "      <td>NaN</td>\n",
              "      <td>NaN</td>\n",
              "      <td>NaN</td>\n",
              "      <td>NaN</td>\n",
              "      <td>NaN</td>\n",
              "      <td>NaN</td>\n",
              "      <td>...</td>\n",
              "      <td>NaN</td>\n",
              "      <td>NaN</td>\n",
              "      <td>NaN</td>\n",
              "      <td>NaN</td>\n",
              "      <td>NaN</td>\n",
              "      <td>NaN</td>\n",
              "      <td>NaN</td>\n",
              "      <td>32.361000</td>\n",
              "      <td>NaN</td>\n",
              "      <td>NaN</td>\n",
              "    </tr>\n",
              "    <tr>\n",
              "      <th>1</th>\n",
              "      <td>2015-05-21</td>\n",
              "      <td>32</td>\n",
              "      <td>0.454967</td>\n",
              "      <td>0.347400</td>\n",
              "      <td>0.059194</td>\n",
              "      <td>0.029176</td>\n",
              "      <td>NaN</td>\n",
              "      <td>44.879091</td>\n",
              "      <td>0.029525</td>\n",
              "      <td>0.053121</td>\n",
              "      <td>...</td>\n",
              "      <td>NaN</td>\n",
              "      <td>NaN</td>\n",
              "      <td>NaN</td>\n",
              "      <td>570.775455</td>\n",
              "      <td>0.296364</td>\n",
              "      <td>NaN</td>\n",
              "      <td>7.871636</td>\n",
              "      <td>16.792818</td>\n",
              "      <td>NaN</td>\n",
              "      <td>NaN</td>\n",
              "    </tr>\n",
              "    <tr>\n",
              "      <th>2</th>\n",
              "      <td>2015-05-22</td>\n",
              "      <td>32</td>\n",
              "      <td>0.077821</td>\n",
              "      <td>0.389323</td>\n",
              "      <td>0.019158</td>\n",
              "      <td>0.051903</td>\n",
              "      <td>NaN</td>\n",
              "      <td>42.506000</td>\n",
              "      <td>0.009589</td>\n",
              "      <td>0.014215</td>\n",
              "      <td>...</td>\n",
              "      <td>NaN</td>\n",
              "      <td>NaN</td>\n",
              "      <td>NaN</td>\n",
              "      <td>558.360000</td>\n",
              "      <td>0.002750</td>\n",
              "      <td>NaN</td>\n",
              "      <td>384.788079</td>\n",
              "      <td>17.018949</td>\n",
              "      <td>NaN</td>\n",
              "      <td>NaN</td>\n",
              "    </tr>\n",
              "    <tr>\n",
              "      <th>3</th>\n",
              "      <td>2015-05-23</td>\n",
              "      <td>32</td>\n",
              "      <td>0.018036</td>\n",
              "      <td>0.387729</td>\n",
              "      <td>0.019711</td>\n",
              "      <td>0.021092</td>\n",
              "      <td>0.144603</td>\n",
              "      <td>54.734437</td>\n",
              "      <td>0.009863</td>\n",
              "      <td>0.013436</td>\n",
              "      <td>...</td>\n",
              "      <td>NaN</td>\n",
              "      <td>NaN</td>\n",
              "      <td>NaN</td>\n",
              "      <td>573.282187</td>\n",
              "      <td>0.038750</td>\n",
              "      <td>NaN</td>\n",
              "      <td>252.605975</td>\n",
              "      <td>18.575000</td>\n",
              "      <td>NaN</td>\n",
              "      <td>NaN</td>\n",
              "    </tr>\n",
              "    <tr>\n",
              "      <th>4</th>\n",
              "      <td>2015-05-24</td>\n",
              "      <td>32</td>\n",
              "      <td>0.024935</td>\n",
              "      <td>0.398042</td>\n",
              "      <td>0.024757</td>\n",
              "      <td>0.009568</td>\n",
              "      <td>0.494143</td>\n",
              "      <td>58.374574</td>\n",
              "      <td>0.012397</td>\n",
              "      <td>0.010337</td>\n",
              "      <td>...</td>\n",
              "      <td>NaN</td>\n",
              "      <td>NaN</td>\n",
              "      <td>NaN</td>\n",
              "      <td>572.169574</td>\n",
              "      <td>0.003404</td>\n",
              "      <td>NaN</td>\n",
              "      <td>259.231664</td>\n",
              "      <td>16.781064</td>\n",
              "      <td>NaN</td>\n",
              "      <td>NaN</td>\n",
              "    </tr>\n",
              "    <tr>\n",
              "      <th>...</th>\n",
              "      <td>...</td>\n",
              "      <td>...</td>\n",
              "      <td>...</td>\n",
              "      <td>...</td>\n",
              "      <td>...</td>\n",
              "      <td>...</td>\n",
              "      <td>...</td>\n",
              "      <td>...</td>\n",
              "      <td>...</td>\n",
              "      <td>...</td>\n",
              "      <td>...</td>\n",
              "      <td>...</td>\n",
              "      <td>...</td>\n",
              "      <td>...</td>\n",
              "      <td>...</td>\n",
              "      <td>...</td>\n",
              "      <td>...</td>\n",
              "      <td>...</td>\n",
              "      <td>...</td>\n",
              "      <td>...</td>\n",
              "      <td>...</td>\n",
              "    </tr>\n",
              "    <tr>\n",
              "      <th>231587</th>\n",
              "      <td>2021-12-27</td>\n",
              "      <td>426</td>\n",
              "      <td>28.956522</td>\n",
              "      <td>67.375000</td>\n",
              "      <td>0.036429</td>\n",
              "      <td>0.030750</td>\n",
              "      <td>1.684583</td>\n",
              "      <td>56.541667</td>\n",
              "      <td>NaN</td>\n",
              "      <td>0.024762</td>\n",
              "      <td>...</td>\n",
              "      <td>NaN</td>\n",
              "      <td>NaN</td>\n",
              "      <td>NaN</td>\n",
              "      <td>708.600000</td>\n",
              "      <td>0.000000</td>\n",
              "      <td>NaN</td>\n",
              "      <td>136.416667</td>\n",
              "      <td>NaN</td>\n",
              "      <td>NaN</td>\n",
              "      <td>NaN</td>\n",
              "    </tr>\n",
              "    <tr>\n",
              "      <th>231588</th>\n",
              "      <td>2021-12-28</td>\n",
              "      <td>426</td>\n",
              "      <td>20.818182</td>\n",
              "      <td>55.833333</td>\n",
              "      <td>0.037508</td>\n",
              "      <td>0.026792</td>\n",
              "      <td>1.700000</td>\n",
              "      <td>44.375000</td>\n",
              "      <td>NaN</td>\n",
              "      <td>0.023225</td>\n",
              "      <td>...</td>\n",
              "      <td>NaN</td>\n",
              "      <td>NaN</td>\n",
              "      <td>NaN</td>\n",
              "      <td>705.670833</td>\n",
              "      <td>0.000000</td>\n",
              "      <td>NaN</td>\n",
              "      <td>136.875000</td>\n",
              "      <td>NaN</td>\n",
              "      <td>NaN</td>\n",
              "      <td>NaN</td>\n",
              "    </tr>\n",
              "    <tr>\n",
              "      <th>231589</th>\n",
              "      <td>2021-12-29</td>\n",
              "      <td>426</td>\n",
              "      <td>16.857143</td>\n",
              "      <td>51.458333</td>\n",
              "      <td>0.045588</td>\n",
              "      <td>0.017083</td>\n",
              "      <td>1.732917</td>\n",
              "      <td>37.875000</td>\n",
              "      <td>NaN</td>\n",
              "      <td>0.026500</td>\n",
              "      <td>...</td>\n",
              "      <td>NaN</td>\n",
              "      <td>NaN</td>\n",
              "      <td>NaN</td>\n",
              "      <td>707.687500</td>\n",
              "      <td>0.000000</td>\n",
              "      <td>NaN</td>\n",
              "      <td>108.708333</td>\n",
              "      <td>NaN</td>\n",
              "      <td>NaN</td>\n",
              "      <td>NaN</td>\n",
              "    </tr>\n",
              "    <tr>\n",
              "      <th>231590</th>\n",
              "      <td>2021-12-30</td>\n",
              "      <td>426</td>\n",
              "      <td>21.555556</td>\n",
              "      <td>51.750000</td>\n",
              "      <td>0.037229</td>\n",
              "      <td>0.029833</td>\n",
              "      <td>1.520000</td>\n",
              "      <td>42.916667</td>\n",
              "      <td>NaN</td>\n",
              "      <td>0.023929</td>\n",
              "      <td>...</td>\n",
              "      <td>NaN</td>\n",
              "      <td>NaN</td>\n",
              "      <td>NaN</td>\n",
              "      <td>710.141667</td>\n",
              "      <td>0.000000</td>\n",
              "      <td>NaN</td>\n",
              "      <td>129.666667</td>\n",
              "      <td>NaN</td>\n",
              "      <td>NaN</td>\n",
              "      <td>NaN</td>\n",
              "    </tr>\n",
              "    <tr>\n",
              "      <th>231591</th>\n",
              "      <td>2021-12-31</td>\n",
              "      <td>426</td>\n",
              "      <td>27.894737</td>\n",
              "      <td>60.291667</td>\n",
              "      <td>0.037571</td>\n",
              "      <td>0.032000</td>\n",
              "      <td>1.570833</td>\n",
              "      <td>47.375000</td>\n",
              "      <td>NaN</td>\n",
              "      <td>0.026254</td>\n",
              "      <td>...</td>\n",
              "      <td>NaN</td>\n",
              "      <td>NaN</td>\n",
              "      <td>NaN</td>\n",
              "      <td>707.454167</td>\n",
              "      <td>0.000000</td>\n",
              "      <td>NaN</td>\n",
              "      <td>134.000000</td>\n",
              "      <td>NaN</td>\n",
              "      <td>NaN</td>\n",
              "      <td>NaN</td>\n",
              "    </tr>\n",
              "  </tbody>\n",
              "</table>\n",
              "<p>231592 rows × 27 columns</p>\n",
              "</div>\n",
              "      <button class=\"colab-df-convert\" onclick=\"convertToInteractive('df-7aef2678-a387-4f78-a9fe-0108ffb16abe')\"\n",
              "              title=\"Convert this dataframe to an interactive table.\"\n",
              "              style=\"display:none;\">\n",
              "        \n",
              "  <svg xmlns=\"http://www.w3.org/2000/svg\" height=\"24px\"viewBox=\"0 0 24 24\"\n",
              "       width=\"24px\">\n",
              "    <path d=\"M0 0h24v24H0V0z\" fill=\"none\"/>\n",
              "    <path d=\"M18.56 5.44l.94 2.06.94-2.06 2.06-.94-2.06-.94-.94-2.06-.94 2.06-2.06.94zm-11 1L8.5 8.5l.94-2.06 2.06-.94-2.06-.94L8.5 2.5l-.94 2.06-2.06.94zm10 10l.94 2.06.94-2.06 2.06-.94-2.06-.94-.94-2.06-.94 2.06-2.06.94z\"/><path d=\"M17.41 7.96l-1.37-1.37c-.4-.4-.92-.59-1.43-.59-.52 0-1.04.2-1.43.59L10.3 9.45l-7.72 7.72c-.78.78-.78 2.05 0 2.83L4 21.41c.39.39.9.59 1.41.59.51 0 1.02-.2 1.41-.59l7.78-7.78 2.81-2.81c.8-.78.8-2.07 0-2.86zM5.41 20L4 18.59l7.72-7.72 1.47 1.35L5.41 20z\"/>\n",
              "  </svg>\n",
              "      </button>\n",
              "      \n",
              "  <style>\n",
              "    .colab-df-container {\n",
              "      display:flex;\n",
              "      flex-wrap:wrap;\n",
              "      gap: 12px;\n",
              "    }\n",
              "\n",
              "    .colab-df-convert {\n",
              "      background-color: #E8F0FE;\n",
              "      border: none;\n",
              "      border-radius: 50%;\n",
              "      cursor: pointer;\n",
              "      display: none;\n",
              "      fill: #1967D2;\n",
              "      height: 32px;\n",
              "      padding: 0 0 0 0;\n",
              "      width: 32px;\n",
              "    }\n",
              "\n",
              "    .colab-df-convert:hover {\n",
              "      background-color: #E2EBFA;\n",
              "      box-shadow: 0px 1px 2px rgba(60, 64, 67, 0.3), 0px 1px 3px 1px rgba(60, 64, 67, 0.15);\n",
              "      fill: #174EA6;\n",
              "    }\n",
              "\n",
              "    [theme=dark] .colab-df-convert {\n",
              "      background-color: #3B4455;\n",
              "      fill: #D2E3FC;\n",
              "    }\n",
              "\n",
              "    [theme=dark] .colab-df-convert:hover {\n",
              "      background-color: #434B5C;\n",
              "      box-shadow: 0px 1px 3px 1px rgba(0, 0, 0, 0.15);\n",
              "      filter: drop-shadow(0px 1px 2px rgba(0, 0, 0, 0.3));\n",
              "      fill: #FFFFFF;\n",
              "    }\n",
              "  </style>\n",
              "\n",
              "      <script>\n",
              "        const buttonEl =\n",
              "          document.querySelector('#df-7aef2678-a387-4f78-a9fe-0108ffb16abe button.colab-df-convert');\n",
              "        buttonEl.style.display =\n",
              "          google.colab.kernel.accessAllowed ? 'block' : 'none';\n",
              "\n",
              "        async function convertToInteractive(key) {\n",
              "          const element = document.querySelector('#df-7aef2678-a387-4f78-a9fe-0108ffb16abe');\n",
              "          const dataTable =\n",
              "            await google.colab.kernel.invokeFunction('convertToInteractive',\n",
              "                                                     [key], {});\n",
              "          if (!dataTable) return;\n",
              "\n",
              "          const docLinkHtml = 'Like what you see? Visit the ' +\n",
              "            '<a target=\"_blank\" href=https://colab.research.google.com/notebooks/data_table.ipynb>data table notebook</a>'\n",
              "            + ' to learn more about interactive tables.';\n",
              "          element.innerHTML = '';\n",
              "          dataTable['output_type'] = 'display_data';\n",
              "          await google.colab.output.renderOutput(dataTable, element);\n",
              "          const docLink = document.createElement('div');\n",
              "          docLink.innerHTML = docLinkHtml;\n",
              "          element.appendChild(docLink);\n",
              "        }\n",
              "      </script>\n",
              "    </div>\n",
              "  </div>\n",
              "  "
            ]
          },
          "metadata": {},
          "execution_count": 4
        }
      ],
      "source": [
        "DAQI"
      ]
    },
    {
      "cell_type": "markdown",
      "source": [
        " A continuación describiremos las medidas de centralidad, dispersión, skewness y kutorsis de cada variable que representan los principales contaminantes del aire"
      ],
      "metadata": {
        "id": "1TLkoQxOmJgt"
      }
    },
    {
      "cell_type": "code",
      "execution_count": null,
      "metadata": {
        "colab": {
          "base_uri": "https://localhost:8080/"
        },
        "id": "1uZsqUcMjqdR",
        "outputId": "db1c6b12-e502-444c-c472-b7687c1834c9"
      },
      "outputs": [
        {
          "output_type": "stream",
          "name": "stdout",
          "text": [
            "Media de Oxido Nitroso:  28.53818941428484\n",
            "Mediana de Oxido Nitroso:  nan\n",
            "Moda de Oxido Nitroso:  0.0\n",
            "Skewness:  335.9776218702731\n",
            "Kurtosis:  112880.97493113627\n",
            "Varianza:  90135117.89743496\n",
            "Desviación Estándar:  9493.95164815131\n"
          ]
        }
      ],
      "source": [
        "nox = DAQI[\"NOx\"];\n",
        "media = np.mean(nox)\n",
        "mediana = statistics.median(nox)\n",
        "moda = statistics.mode(nox)\n",
        "print(\"Media de Oxido Nitroso: \", media)\n",
        "print(\"Mediana de Oxido Nitroso: \", mediana)\n",
        "print(\"Moda de Oxido Nitroso: \", moda)\n",
        "\n",
        "skew = nox.skew();\n",
        "print(\"Skewness: \", skew);\n",
        "kurt = nox.kurt();\n",
        "print(\"Kurtosis: \", kurt);\n",
        "var = nox.var();\n",
        "print(\"Varianza: \", var);\n",
        "std = nox.std();\n",
        "print(\"Desviación Estándar: \", std);"
      ]
    },
    {
      "cell_type": "code",
      "source": [
        "pm25 = DAQI[\"PM2.5\"]\n",
        "media = np.mean(pm25)\n",
        "mediana = statistics.median(pm25)\n",
        "moda = statistics.mode(pm25)\n",
        "print(\"Media de particulas < 2.5 micrometros de diámetro: \", media)\n",
        "print(\"Mediana de particulas < 2.5 micrometros de diámetro: \", mediana)\n",
        "print(\"Moda de particulas < 2.5 micrometros de diámetro: \", moda)\n",
        "\n",
        "skew = pm25.skew();\n",
        "print(\"Skewness: \", skew);\n",
        "kurt = pm25.kurt();\n",
        "print(\"Kurtosis: \", kurt);\n",
        "var = pm25.var();\n",
        "print(\"Varianza: \", var);\n",
        "std = pm25.std();\n",
        "print(\"Desviación Estándar: \", std);"
      ],
      "metadata": {
        "id": "OMz2aD2Mlysq",
        "colab": {
          "base_uri": "https://localhost:8080/"
        },
        "outputId": "ba07847e-70cc-478b-c56c-24e644f8b1b5"
      },
      "execution_count": null,
      "outputs": [
        {
          "output_type": "stream",
          "name": "stdout",
          "text": [
            "Media de particulas < 2.5 micrometros de diámetro:  2.22616003290084e+33\n",
            "Mediana de particulas < 2.5 micrometros de diámetro:  nan\n",
            "Moda de particulas < 2.5 micrometros de diámetro:  0.0\n",
            "Skewness:  274.71965710411104\n",
            "Kurtosis:  81342.42523223501\n",
            "Varianza:  3.0254592422897813e+71\n",
            "Desviación Estándar:  5.5004174771464226e+35\n"
          ]
        }
      ]
    },
    {
      "cell_type": "code",
      "source": [
        "pm10 = DAQI[\"PM10\"];\n",
        "media = np.mean(pm10)\n",
        "mediana = statistics.median(pm10)\n",
        "moda = statistics.mode(pm10)\n",
        "print(\"Media de particulas < 10 micrometros de diámetro: \", media)\n",
        "print(\"Mediana de particulas < 10 micrometros de diámetro: \", mediana)\n",
        "print(\"Moda de particulas < 10 micrometros de diámetro: \", moda)\n",
        "\n",
        "skew = pm10.skew();\n",
        "print(\"Skewness: \", skew);\n",
        "kurt = pm10.kurt();\n",
        "print(\"Kurtosis: \", kurt);\n",
        "var = pm10.var();\n",
        "print(\"Varianza: \", var);\n",
        "std = pm10.std();\n",
        "print(\"Desviación Estándar: \", std);"
      ],
      "metadata": {
        "id": "EI1z5J2Kl3Ia",
        "colab": {
          "base_uri": "https://localhost:8080/"
        },
        "outputId": "3bd50875-6c91-4835-ff77-34ca1cffe557"
      },
      "execution_count": null,
      "outputs": [
        {
          "output_type": "stream",
          "name": "stdout",
          "text": [
            "Media de particulas < 10 micrometros de diámetro:  1.3072114371094598e+33\n",
            "Mediana de particulas < 10 micrometros de diámetro:  31.19090909090909\n",
            "Moda de particulas < 10 micrometros de diámetro:  970.0\n",
            "Skewness:  337.1247516159118\n",
            "Kurtosis:  123394.89049190364\n",
            "Varianza:  1.3545279040355017e+71\n",
            "Desviación Estándar:  3.680391153173127e+35\n"
          ]
        }
      ]
    },
    {
      "cell_type": "code",
      "source": [
        "oz = DAQI[\"O3\"];\n",
        "media = np.mean(oz)\n",
        "mediana = statistics.median(oz)\n",
        "moda = statistics.mode(oz)\n",
        "print(\"Media de Ozono (ppm): \", media)\n",
        "print(\"Mediana de Ozono (ppm): \", mediana)\n",
        "print(\"Moda de Ozono (ppm): \", moda)\n",
        "\n",
        "skew = oz.skew();\n",
        "print(\"Skewness: \", skew);\n",
        "kurt = oz.kurt();\n",
        "print(\"Kurtosis: \", kurt);\n",
        "var = oz.var();\n",
        "print(\"Varianza: \", var);\n",
        "std = oz.std();\n",
        "print(\"Desviación Estándar: \", std);"
      ],
      "metadata": {
        "id": "qbZP81Bwl55R",
        "colab": {
          "base_uri": "https://localhost:8080/"
        },
        "outputId": "2005e30f-a0cd-43df-aedd-5e7e598839cc"
      },
      "execution_count": null,
      "outputs": [
        {
          "output_type": "stream",
          "name": "stdout",
          "text": [
            "Media de Ozono (ppm):  0.4058344283270706\n",
            "Mediana de Ozono (ppm):  nan\n",
            "Moda de Ozono (ppm):  0.0\n",
            "Skewness:  439.09057046971316\n",
            "Kurtosis:  192852.59654374784\n",
            "Varianza:  14663.610738009058\n",
            "Desviación Estándar:  121.0933967564254\n"
          ]
        }
      ]
    },
    {
      "cell_type": "code",
      "source": [
        "co = DAQI[\"CO\"];\n",
        "media = np.mean(co)\n",
        "mediana = statistics.median(co)\n",
        "moda = statistics.mode(co)\n",
        "print(\"Media de Monóxido de Carbono (ppm): \", media)\n",
        "print(\"Mediana de Monóxido de Carbono (ppm): \", mediana)\n",
        "print(\"Moda de Monóxido de Carbono (ppm): \", moda)\n",
        "\n",
        "skew = co.skew();\n",
        "print(\"Skewness: \", skew);\n",
        "kurt = co.kurt();\n",
        "print(\"Kurtosis: \", kurt);\n",
        "var = co.var();\n",
        "print(\"Varianza: \", var);\n",
        "std = co.std();\n",
        "print(\"Desviación Estándar: \", std);"
      ],
      "metadata": {
        "id": "qR6eKx2jl8vW",
        "colab": {
          "base_uri": "https://localhost:8080/"
        },
        "outputId": "9a574d25-fbbb-4089-82a8-3a1982c46419"
      },
      "execution_count": null,
      "outputs": [
        {
          "output_type": "stream",
          "name": "stdout",
          "text": [
            "Media de Monóxido de Carbono (ppm):  5.589822885425168\n",
            "Mediana de Monóxido de Carbono (ppm):  0.6627083333333332\n",
            "Moda de Monóxido de Carbono (ppm):  0.0\n",
            "Skewness:  130.813159501976\n",
            "Kurtosis:  25032.16867878739\n",
            "Varianza:  113129.63017863745\n",
            "Desviación Estándar:  336.34748427576716\n"
          ]
        }
      ]
    },
    {
      "cell_type": "code",
      "source": [
        "hr = DAQI[\"HR\"]\n",
        "media = np.mean(hr)\n",
        "mediana = statistics.median(hr)\n",
        "moda = statistics.mode(hr)\n",
        "print(\"Media de humedead relativa: \", media)\n",
        "print(\"Mediana de humedad relativa: \", mediana)\n",
        "print(\"Moda de humedad relativa: \", moda)\n",
        "\n",
        "skew = hr.skew();\n",
        "print(\"Skewness: \", skew);\n",
        "kurt = hr.kurt();\n",
        "print(\"Kurtosis: \", kurt);\n",
        "var = hr.var();\n",
        "print(\"Varianza: \", var);\n",
        "std = hr.std();\n",
        "print(\"Desviación Estándar: \", std);"
      ],
      "metadata": {
        "id": "pGNC_vtKmA1B",
        "colab": {
          "base_uri": "https://localhost:8080/"
        },
        "outputId": "0cae235e-9b1b-40a9-d46a-e31ce12ceec8"
      },
      "execution_count": null,
      "outputs": [
        {
          "output_type": "stream",
          "name": "stdout",
          "text": [
            "Media de humedead relativa:  227.7640400351322\n",
            "Mediana de humedad relativa:  13.445652173913043\n",
            "Moda de humedad relativa:  2.5\n",
            "Skewness:  336.8579143531511\n",
            "Kurtosis:  115905.57190100622\n",
            "Varianza:  2522713232.6377997\n",
            "Desviación Estándar:  50226.6187657282\n"
          ]
        }
      ]
    },
    {
      "cell_type": "code",
      "source": [
        "co = DAQI[\"CO\"];\n",
        "media = np.mean(co)\n",
        "mediana = statistics.median(co)\n",
        "moda = statistics.mode(co)\n",
        "print(\"Media de Monóxido de Carbono (ppm): \", media)\n",
        "print(\"Mediana de Monóxido de Carbono (ppm): \", mediana)\n",
        "print(\"Moda de Monóxido de Carbono (ppm): \", moda)\n",
        "\n",
        "skew = co.skew();\n",
        "print(\"Skewness: \", skew);\n",
        "kurt = co.kurt();\n",
        "print(\"Kurtosis: \", kurt);\n",
        "var = co.var();\n",
        "print(\"Varianza: \", var);\n",
        "std = co.std();\n",
        "print(\"Desviación Estándar: \", std);"
      ],
      "metadata": {
        "id": "DQuErOH5mCa3",
        "colab": {
          "base_uri": "https://localhost:8080/"
        },
        "outputId": "d24f3b02-a676-42ef-9995-fdfce66cae8f"
      },
      "execution_count": null,
      "outputs": [
        {
          "output_type": "stream",
          "name": "stdout",
          "text": [
            "Media de Monóxido de Carbono (ppm):  5.589822885425168\n",
            "Mediana de Monóxido de Carbono (ppm):  0.6627083333333332\n",
            "Moda de Monóxido de Carbono (ppm):  0.0\n",
            "Skewness:  130.813159501976\n",
            "Kurtosis:  25032.16867878739\n",
            "Varianza:  113129.63017863745\n",
            "Desviación Estándar:  336.34748427576716\n"
          ]
        }
      ]
    },
    {
      "cell_type": "code",
      "source": [
        "no = DAQI[\"NO\"];\n",
        "media = np.mean(no)\n",
        "mediana = statistics.median(no)\n",
        "moda = statistics.mode(no)\n",
        "print(\"Media de Óxido Nítrico (ppm): \", media)\n",
        "print(\"Mediana de Óxido Nítrico (ppm): \", mediana)\n",
        "print(\"Moda de Óxido Nítrico (ppm): \", moda)\n",
        "\n",
        "skew = no.skew();\n",
        "print(\"Skewness: \", skew);\n",
        "kurt = no.kurt();\n",
        "print(\"Kurtosis: \", kurt);\n",
        "var = no.var();\n",
        "print(\"Varianza: \", var);\n",
        "std = no.std();\n",
        "print(\"Desviación Estándar: \", std);"
      ],
      "metadata": {
        "id": "oTfHKQBTmE0A",
        "colab": {
          "base_uri": "https://localhost:8080/"
        },
        "outputId": "a71d04e0-95f8-46b0-ff5a-c8cc0465493a"
      },
      "execution_count": null,
      "outputs": [
        {
          "output_type": "stream",
          "name": "stdout",
          "text": [
            "Media de Óxido Nítrico (ppm):  27.12089854277521\n",
            "Mediana de Óxido Nítrico (ppm):  0.0021403508771929503\n",
            "Moda de Óxido Nítrico (ppm):  0.0\n",
            "Skewness:  343.73534366180445\n",
            "Kurtosis:  118153.99098797502\n",
            "Varianza:  86112552.230103\n",
            "Desviación Estándar:  9279.684920842032\n"
          ]
        }
      ]
    },
    {
      "cell_type": "code",
      "source": [
        "no2 = DAQI[\"NO2\"];\n",
        "media = np.mean(no2)\n",
        "mediana = statistics.median(no2)\n",
        "moda = statistics.mode(no2)\n",
        "print(\"Media de Dióxido de nitrógeno (ppm): \", media)\n",
        "print(\"Mediana de Dióxido de nitrógeno (ppm): \", mediana)\n",
        "print(\"Moda de Dióxido de nitrógeno (ppm): \", moda)\n",
        "\n",
        "skew = no2.skew();\n",
        "print(\"Skewness: \", skew);\n",
        "kurt = no2.kurt();\n",
        "print(\"Kurtosis: \", kurt);\n",
        "var = no2.var();\n",
        "print(\"Varianza: \", var);\n",
        "std = no2.std();\n",
        "print(\"Desviación Estándar: \", std);"
      ],
      "metadata": {
        "id": "ieVXzgMBmG5v",
        "colab": {
          "base_uri": "https://localhost:8080/"
        },
        "outputId": "f59bd49c-d065-43a0-85d1-7d62f5890de9"
      },
      "execution_count": null,
      "outputs": [
        {
          "output_type": "stream",
          "name": "stdout",
          "text": [
            "Media de Dióxido de nitrógeno (ppm):  18.96444988645774\n",
            "Mediana de Dióxido de nitrógeno (ppm):  0.0194208333333333\n",
            "Moda de Dióxido de nitrógeno (ppm):  0.0\n",
            "Skewness:  411.44377603534576\n",
            "Kurtosis:  169285.98722524315\n",
            "Varianza:  60102681.29964672\n",
            "Desviación Estándar:  7752.591908494005\n"
          ]
        }
      ]
    },
    {
      "cell_type": "markdown",
      "metadata": {
        "id": "-MOB5yK7brtg"
      },
      "source": [
        "# Diagramas de Caja y Bigote"
      ]
    },
    {
      "cell_type": "markdown",
      "source": [
        "A continuación compararemos los datos de las particulas menores a  2.5 micrometros de diámetro con las partículas menores a 10 micrometros de diámetro."
      ],
      "metadata": {
        "id": "HJVGHVV93JT5"
      }
    },
    {
      "cell_type": "code",
      "source": [
        "import seaborn as sns\n",
        "import pandas as pd\n",
        "import matplotlib.pyplot as plt\n",
        "\n",
        "# Crear un DataFrame con tres series de datos\n",
        "data = pd.DataFrame({\n",
        "    'PM2.5': DAQI['PM2.5'],\n",
        "    'PM10': DAQI['PM10'],\n",
        "})\n",
        "\n",
        "# Crear un boxplot para cada serie de datos\n",
        "sns.boxplot(data=data)\n",
        "plt.ylim(-10, 130)\n",
        "plt.show()"
      ],
      "metadata": {
        "colab": {
          "base_uri": "https://localhost:8080/",
          "height": 430
        },
        "id": "yfVHrKworyOC",
        "outputId": "9dd93305-0669-45ac-8b08-95a461c8d23a"
      },
      "execution_count": null,
      "outputs": [
        {
          "output_type": "display_data",
          "data": {
            "text/plain": [
              "<Figure size 640x480 with 1 Axes>"
            ],
            "image/png": "[encoded data removed]"
          },
          "metadata": {}
        }
      ]
    },
    {
      "cell_type": "markdown",
      "source": [],
      "metadata": {
        "id": "PnHho1-r3Gea"
      }
    },
    {
      "cell_type": "markdown",
      "source": [
        "Columna PM2.5"
      ],
      "metadata": {
        "id": "PXdUbK4XoJSf"
      }
    },
    {
      "cell_type": "code",
      "execution_count": null,
      "metadata": {
        "colab": {
          "base_uri": "https://localhost:8080/"
        },
        "outputId": "f2126737-cc8b-4c62-d9b0-2c684645d543",
        "id": "8BfH5o11m2ug"
      },
      "outputs": [
        {
          "output_type": "execute_result",
          "data": {
            "text/plain": [
              "[0.0, 12.9, 19.6, 28.111562777777777, 1.80616e+38]"
            ]
          },
          "metadata": {},
          "execution_count": 15
        }
      ],
      "source": [
        "five_num = [\n",
        "    DAQI['PM2.5'].quantile(0),\n",
        "    DAQI['PM2.5'].quantile(0.25),\n",
        "    DAQI['PM2.5'].quantile(0.50),\n",
        "    DAQI['PM2.5'].quantile(0.75),\n",
        "    DAQI['PM2.5'].quantile(1),\n",
        "]\n",
        "five_num"
      ]
    },
    {
      "cell_type": "code",
      "source": [
        "DAQI.boxplot(column=\"PM2.5\",\n",
        "             return_type='axes',\n",
        "             figsize=(6,6))\n",
        "plt.ylim(-10, 60)\n",
        "plt.text(x=0.7, y=28.1, s=\"3rd Quartile\")\n",
        "plt.text(x=0.7, y=19.6, s=\"Median\")\n",
        "plt.text(x=0.7, y=12.9, s=\"1st Quartile\")\n",
        "plt.text(x=0.8, y=0, s=\"Min\")\n",
        "plt.text(x=0.6, y=21, s=\"IQR\", rotation=90, size=20)\n",
        "plt.show()"
      ],
      "metadata": {
        "outputId": "6d3556a3-9399-42ee-b20d-6211f7c188dd",
        "colab": {
          "base_uri": "https://localhost:8080/",
          "height": 528
        },
        "id": "JwwOVnHWm2um"
      },
      "execution_count": null,
      "outputs": [
        {
          "output_type": "display_data",
          "data": {
            "text/plain": [
              "<Figure size 600x600 with 1 Axes>"
            ],
            "image/png": "[encoded data removed]"
          },
          "metadata": {}
        }
      ]
    },
    {
      "cell_type": "markdown",
      "source": [
        "Columna PM10"
      ],
      "metadata": {
        "id": "8vK3wbukoN_j"
      }
    },
    {
      "cell_type": "code",
      "source": [
        "five_num = [\n",
        "    DAQI['PM10'].quantile(0),\n",
        "    DAQI['PM10'].quantile(0.25),\n",
        "    DAQI['PM10'].quantile(0.50),\n",
        "    DAQI['PM10'].quantile(0.75),\n",
        "    DAQI['PM10'].quantile(1),\n",
        "]\n",
        "five_num"
      ],
      "metadata": {
        "colab": {
          "base_uri": "https://localhost:8080/"
        },
        "id": "Pwt4CpEXngHs",
        "outputId": "69826006-249c-4e6f-81e9-47d3a68b7940"
      },
      "execution_count": null,
      "outputs": [
        {
          "output_type": "execute_result",
          "data": {
            "text/plain": [
              "[0.0,\n",
              " 31.874166666666667,\n",
              " 47.38759400196663,\n",
              " 67.67537499999999,\n",
              " 1.4128928571428573e+38]"
            ]
          },
          "metadata": {},
          "execution_count": 17
        }
      ]
    },
    {
      "cell_type": "code",
      "source": [
        "import matplotlib.pyplot as plt\n",
        "DAQI.boxplot(column=\"PM10\",\n",
        "             return_type='axes',\n",
        "             figsize=(6,6))\n",
        "plt.ylim(-10, 130)\n",
        "plt.text(x=0.7, y=67.7, s=\"3rd Quartile\")\n",
        "plt.text(x=0.7, y=47.4, s=\"Median\")\n",
        "plt.text(x=0.7, y=31.9, s=\"1st Quartile\")\n",
        "plt.text(x=0.8, y=0, s=\"Min\")\n",
        "plt.text(x=0.6, y=51, s=\"IQR\", rotation=90, size=20)\n",
        "plt.show()"
      ],
      "metadata": {
        "colab": {
          "base_uri": "https://localhost:8080/",
          "height": 522
        },
        "id": "jdN5-ANrnY5R",
        "outputId": "2a3f6ed4-f14e-4ad9-8730-4783b0407c91"
      },
      "execution_count": null,
      "outputs": [
        {
          "output_type": "display_data",
          "data": {
            "text/plain": [
              "<Figure size 600x600 with 1 Axes>"
            ],
            "image/png": "[encoded data removed]"
          },
          "metadata": {}
        }
      ]
    },
    {
      "cell_type": "markdown",
      "source": [
        "Columna O3"
      ],
      "metadata": {
        "id": "pzQLFAcK4CY2"
      }
    },
    {
      "cell_type": "code",
      "execution_count": null,
      "metadata": {
        "colab": {
          "base_uri": "https://localhost:8080/"
        },
        "outputId": "6c12e27c-85a2-4691-d228-04a725533e67",
        "id": "fWGWwXyp4CY2"
      },
      "outputs": [
        {
          "output_type": "execute_result",
          "data": {
            "text/plain": [
              "[0.0, 0.0184829260869565, 0.0253333333333333, 0.033375, 53185.47385058002]"
            ]
          },
          "metadata": {},
          "execution_count": 90
        }
      ],
      "source": [
        "five_num = [\n",
        "    DAQI['O3'].quantile(0),\n",
        "    DAQI['O3'].quantile(0.25),\n",
        "    DAQI['O3'].quantile(0.50),\n",
        "    DAQI['O3'].quantile(0.75),\n",
        "    DAQI['O3'].quantile(1),\n",
        "]\n",
        "five_num"
      ]
    },
    {
      "cell_type": "code",
      "source": [
        "DAQI.boxplot(column=\"O3\",\n",
        "             return_type='axes',\n",
        "             figsize=(6,6))\n",
        "plt.ylim(-0.01, 0.06)\n",
        "plt.text(x=0.7, y=0.033, s=\"3rd Quartile\")\n",
        "plt.text(x=0.7, y=0.023, s=\"Median\")\n",
        "plt.text(x=0.7, y=0.018, s=\"1st Quartile\")\n",
        "plt.text(x=0.8, y=0, s=\"Min\")\n",
        "plt.show()"
      ],
      "metadata": {
        "outputId": "ff7fe4a7-ed42-4846-d044-88a8c644e56a",
        "colab": {
          "base_uri": "https://localhost:8080/",
          "height": 528
        },
        "id": "kRmDBSoF4CY3"
      },
      "execution_count": null,
      "outputs": [
        {
          "output_type": "display_data",
          "data": {
            "text/plain": [
              "<Figure size 600x600 with 1 Axes>"
            ],
            "image/png": "[encoded data removed]"
          },
          "metadata": {}
        }
      ]
    },
    {
      "cell_type": "markdown",
      "source": [
        "Columna NOx"
      ],
      "metadata": {
        "id": "HsB2n4yZ4FQE"
      }
    },
    {
      "cell_type": "code",
      "execution_count": null,
      "metadata": {
        "colab": {
          "base_uri": "https://localhost:8080/"
        },
        "outputId": "8169fae4-2d0c-43c9-a2b0-218750ed1b8a",
        "id": "S3vCoQr64FQF"
      },
      "outputs": [
        {
          "output_type": "execute_result",
          "data": {
            "text/plain": [
              "[0.0, 0.0141541666666666, 0.02396125, 0.039375, 3189755.931588503]"
            ]
          },
          "metadata": {},
          "execution_count": 100
        }
      ],
      "source": [
        "five_num = [\n",
        "    DAQI['NOx'].quantile(0),\n",
        "    DAQI['NOx'].quantile(0.25),\n",
        "    DAQI['NOx'].quantile(0.50),\n",
        "    DAQI['NOx'].quantile(0.75),\n",
        "    DAQI['NOx'].quantile(1),\n",
        "]\n",
        "five_num"
      ]
    },
    {
      "cell_type": "code",
      "source": [
        "DAQI.boxplot(column=\"NOx\",\n",
        "             return_type='axes',\n",
        "             figsize=(4,4))\n",
        "plt.ylim(-0.05,0.1)\n",
        "plt.text(x=0.6, y=0.039375, s=\"3rd Quartile\")\n",
        "plt.text(x=0.6, y=0.02396125, s=\"Median\")\n",
        "plt.text(x=0.6, y=0.0141541666, s=\"1st Quartile\")\n",
        "plt.text(x=0.6, y=0, s=\"Min\")\n",
        "plt.show()"
      ],
      "metadata": {
        "outputId": "e2f91f65-9122-452c-ddb2-0e575c1889d4",
        "colab": {
          "base_uri": "https://localhost:8080/",
          "height": 374
        },
        "id": "5LeQ__LA4FQF"
      },
      "execution_count": null,
      "outputs": [
        {
          "output_type": "display_data",
          "data": {
            "text/plain": [
              "<Figure size 400x400 with 1 Axes>"
            ],
            "image/png": "[encoded data removed]"
          },
          "metadata": {}
        }
      ]
    },
    {
      "cell_type": "markdown",
      "source": [
        "Columna CO"
      ],
      "metadata": {
        "id": "mfHwrizl4GYH"
      }
    },
    {
      "cell_type": "code",
      "execution_count": null,
      "metadata": {
        "colab": {
          "base_uri": "https://localhost:8080/"
        },
        "outputId": "9fdfae05-cc5f-4c4e-e771-ffadcf52ea9d",
        "id": "MN9O7Ydm4GYI"
      },
      "outputs": [
        {
          "output_type": "execute_result",
          "data": {
            "text/plain": [
              "[0.0,\n",
              " 0.5314260833333333,\n",
              " 0.7916666666666666,\n",
              " 1.2027777777777775,\n",
              " 84087.3537995]"
            ]
          },
          "metadata": {},
          "execution_count": 114
        }
      ],
      "source": [
        "five_num = [\n",
        "    DAQI['CO'].quantile(0),\n",
        "    DAQI['CO'].quantile(0.25),\n",
        "    DAQI['CO'].quantile(0.50),\n",
        "    DAQI['CO'].quantile(0.75),\n",
        "    DAQI['CO'].quantile(1),\n",
        "]\n",
        "five_num"
      ]
    },
    {
      "cell_type": "code",
      "source": [
        "DAQI.boxplot(column=\"CO\",\n",
        "             return_type='axes',\n",
        "             figsize=(4,4))\n",
        "plt.ylim(-0.1, 2.7)\n",
        "plt.text(x=0.7, y=1.2027, s=\"3rd Quartile\")\n",
        "plt.text(x=0.7, y=0.7916, s=\"Median\")\n",
        "plt.text(x=0.7, y=0.5314, s=\"1st Quartile\")\n",
        "plt.text(x=0.8, y=0, s=\"Min\")\n",
        "plt.show()"
      ],
      "metadata": {
        "outputId": "a5b4c96d-4a52-423b-a25a-f9b5537245f2",
        "colab": {
          "base_uri": "https://localhost:8080/",
          "height": 374
        },
        "id": "381wLJab4GYI"
      },
      "execution_count": null,
      "outputs": [
        {
          "output_type": "display_data",
          "data": {
            "text/plain": [
              "<Figure size 400x400 with 1 Axes>"
            ],
            "image/png": "[encoded data removed]"
          },
          "metadata": {}
        }
      ]
    },
    {
      "cell_type": "markdown",
      "source": [],
      "metadata": {
        "id": "QjCOpSfH4Ivo"
      }
    },
    {
      "cell_type": "markdown",
      "source": [
        "Columna PM2.5"
      ],
      "metadata": {
        "id": "6_42Uk4Y4I2-"
      }
    },
    {
      "cell_type": "code",
      "execution_count": null,
      "metadata": {
        "colab": {
          "base_uri": "https://localhost:8080/"
        },
        "outputId": "f2126737-cc8b-4c62-d9b0-2c684645d543",
        "id": "g9XDQCMr4I2_"
      },
      "outputs": [
        {
          "output_type": "execute_result",
          "data": {
            "text/plain": [
              "[0.0, 12.9, 19.6, 28.111562777777777, 1.80616e+38]"
            ]
          },
          "metadata": {},
          "execution_count": 15
        }
      ],
      "source": [
        "five_num = [\n",
        "    DAQI['PM2.5'].quantile(0),\n",
        "    DAQI['PM2.5'].quantile(0.25),\n",
        "    DAQI['PM2.5'].quantile(0.50),\n",
        "    DAQI['PM2.5'].quantile(0.75),\n",
        "    DAQI['PM2.5'].quantile(1),\n",
        "]\n",
        "five_num"
      ]
    },
    {
      "cell_type": "code",
      "source": [
        "DAQI.boxplot(column=\"PM2.5\",\n",
        "             return_type='axes',\n",
        "             figsize=(6,6))\n",
        "plt.ylim(-10, 60)\n",
        "plt.text(x=0.7, y=28.1, s=\"3rd Quartile\")\n",
        "plt.text(x=0.7, y=19.6, s=\"Median\")\n",
        "plt.text(x=0.7, y=12.9, s=\"1st Quartile\")\n",
        "plt.text(x=0.8, y=0, s=\"Min\")\n",
        "plt.text(x=0.6, y=21, s=\"IQR\", rotation=90, size=20)\n",
        "plt.show()"
      ],
      "metadata": {
        "outputId": "6d3556a3-9399-42ee-b20d-6211f7c188dd",
        "colab": {
          "base_uri": "https://localhost:8080/",
          "height": 528
        },
        "id": "Ex0tMYD74I2_"
      },
      "execution_count": null,
      "outputs": [
        {
          "output_type": "display_data",
          "data": {
            "text/plain": [
              "<Figure size 600x600 with 1 Axes>"
            ],
            "image/png": "[encoded data removed]"
          },
          "metadata": {}
        }
      ]
    },
    {
      "cell_type": "markdown",
      "source": [],
      "metadata": {
        "id": "UV5AWxxO4Jdw"
      }
    },
    {
      "cell_type": "markdown",
      "source": [
        "Columna PM2.5"
      ],
      "metadata": {
        "id": "psBC3u-R4Jnt"
      }
    },
    {
      "cell_type": "code",
      "execution_count": null,
      "metadata": {
        "colab": {
          "base_uri": "https://localhost:8080/"
        },
        "outputId": "f2126737-cc8b-4c62-d9b0-2c684645d543",
        "id": "r5Ns0UTL4Jnt"
      },
      "outputs": [
        {
          "output_type": "execute_result",
          "data": {
            "text/plain": [
              "[0.0, 12.9, 19.6, 28.111562777777777, 1.80616e+38]"
            ]
          },
          "metadata": {},
          "execution_count": 15
        }
      ],
      "source": [
        "five_num = [\n",
        "    DAQI['PM2.5'].quantile(0),\n",
        "    DAQI['PM2.5'].quantile(0.25),\n",
        "    DAQI['PM2.5'].quantile(0.50),\n",
        "    DAQI['PM2.5'].quantile(0.75),\n",
        "    DAQI['PM2.5'].quantile(1),\n",
        "]\n",
        "five_num"
      ]
    },
    {
      "cell_type": "code",
      "source": [
        "DAQI.boxplot(column=\"PM2.5\",\n",
        "             return_type='axes',\n",
        "             figsize=(6,6))\n",
        "plt.ylim(-10, 60)\n",
        "plt.text(x=0.7, y=28.1, s=\"3rd Quartile\")\n",
        "plt.text(x=0.7, y=19.6, s=\"Median\")\n",
        "plt.text(x=0.7, y=12.9, s=\"1st Quartile\")\n",
        "plt.text(x=0.8, y=0, s=\"Min\")\n",
        "plt.text(x=0.6, y=21, s=\"IQR\", rotation=90, size=20)\n",
        "plt.show()"
      ],
      "metadata": {
        "outputId": "6d3556a3-9399-42ee-b20d-6211f7c188dd",
        "colab": {
          "base_uri": "https://localhost:8080/",
          "height": 528
        },
        "id": "FYANhaHU4Jnt"
      },
      "execution_count": null,
      "outputs": [
        {
          "output_type": "display_data",
          "data": {
            "text/plain": [
              "<Figure size 600x600 with 1 Axes>"
            ],
            "image/png": "[encoded data removed]"
          },
          "metadata": {}
        }
      ]
    },
    {
      "cell_type": "markdown",
      "source": [
        "Columna PM2.5"
      ],
      "metadata": {
        "id": "jQ8bU3tJ4KU9"
      }
    },
    {
      "cell_type": "code",
      "execution_count": null,
      "metadata": {
        "colab": {
          "base_uri": "https://localhost:8080/"
        },
        "outputId": "f2126737-cc8b-4c62-d9b0-2c684645d543",
        "id": "cCD3lZQq4KU-"
      },
      "outputs": [
        {
          "output_type": "execute_result",
          "data": {
            "text/plain": [
              "[0.0, 12.9, 19.6, 28.111562777777777, 1.80616e+38]"
            ]
          },
          "metadata": {},
          "execution_count": 15
        }
      ],
      "source": [
        "five_num = [\n",
        "    DAQI['PM2.5'].quantile(0),\n",
        "    DAQI['PM2.5'].quantile(0.25),\n",
        "    DAQI['PM2.5'].quantile(0.50),\n",
        "    DAQI['PM2.5'].quantile(0.75),\n",
        "    DAQI['PM2.5'].quantile(1),\n",
        "]\n",
        "five_num"
      ]
    },
    {
      "cell_type": "code",
      "source": [
        "DAQI.boxplot(column=\"PM2.5\",\n",
        "             return_type='axes',\n",
        "             figsize=(6,6))\n",
        "plt.ylim(-10, 60)\n",
        "plt.text(x=0.7, y=28.1, s=\"3rd Quartile\")\n",
        "plt.text(x=0.7, y=19.6, s=\"Median\")\n",
        "plt.text(x=0.7, y=12.9, s=\"1st Quartile\")\n",
        "plt.text(x=0.8, y=0, s=\"Min\")\n",
        "plt.text(x=0.6, y=21, s=\"IQR\", rotation=90, size=20)\n",
        "plt.show()"
      ],
      "metadata": {
        "outputId": "6d3556a3-9399-42ee-b20d-6211f7c188dd",
        "colab": {
          "base_uri": "https://localhost:8080/",
          "height": 528
        },
        "id": "dcqo5AYa4KU_"
      },
      "execution_count": null,
      "outputs": [
        {
          "output_type": "display_data",
          "data": {
            "text/plain": [
              "<Figure size 600x600 with 1 Axes>"
            ],
            "image/png": "[encoded data removed]"
          },
          "metadata": {}
        }
      ]
    },
    {
      "cell_type": "markdown",
      "metadata": {
        "id": "TBC2dArsLCKU"
      },
      "source": [
        "Encuentra los outliers por variable (si es que existen)\n"
      ]
    },
    {
      "cell_type": "code",
      "execution_count": null,
      "metadata": {
        "colab": {
          "base_uri": "https://localhost:8080/"
        },
        "id": "2_OqiXkbDODi",
        "outputId": "e90174c3-ec38-4511-e20f-ea6f9dbfcd2a"
      },
      "outputs": [
        {
          "output_type": "stream",
          "name": "stdout",
          "text": [
            "Número de outliers en PM2.5 : 7721\n",
            "Máximo valor anómalo en PM2.5 : 1.80616e+38\n",
            "Valor mínimo en PM2.5 : 0.0\n",
            "Número de outliers en PM10 : 7931\n",
            "Máximo valor anómalo en PM10 : 1.4128928571428573e+38\n",
            "Valor mínimo en PM10 : 0.0\n",
            "Número de outliers en NOx : 5998\n",
            "Máximo valor anómalo en NOx : 3189755.931588503\n",
            "Valor mínimo en NOx : 0.0\n",
            "Número de outliers en O3 : 4815\n",
            "Máximo valor anómalo en O3 : 53185.47385058002\n",
            "Valor mínimo en O3 : 0.0\n",
            "Número de outliers en CO : 13914\n",
            "Máximo valor anómalo en CO : 84087.3537995\n",
            "Valor mínimo en CO : 0.0\n",
            "Número de outliers en HR : 3347\n",
            "Máximo valor anómalo en HR : 17361314.583166666\n",
            "Valor mínimo en HR : 0.0\n",
            "Número de outliers en NO : 8002\n",
            "Máximo valor anómalo en NO : 3189755.9312854265\n",
            "Valor mínimo en NO : 0.0\n",
            "Número de outliers en NO2 : 4200\n",
            "Máximo valor anómalo en NO2 : 3189755.9312854265\n",
            "Valor mínimo en NO2 : 0.0\n",
            "Número de outliers en TMP : 2328\n",
            "Máximo valor anómalo en TMP : 202409.53333333333\n",
            "Valor mínimo en TMP : 0.0\n",
            "Número de outliers en BEN : 68\n",
            "Máximo valor anómalo en BEN : 67.0\n",
            "Valor mínimo en BEN : 0.0\n",
            "Número de outliers en CH4 : 35\n",
            "Máximo valor anómalo en CH4 : 216.58129641792945\n",
            "Valor mínimo en CH4 : 0.0\n",
            "Número de outliers en CN : 82\n",
            "Máximo valor anómalo en CN : 2318.994203758421\n",
            "Valor mínimo en CN : 0.0\n",
            "Número de outliers en CO2 : 1\n",
            "Máximo valor anómalo en CO2 : 90.02715277777781\n",
            "Valor mínimo en CO2 : 4.026923611111109\n",
            "Número de outliers en H2S : 50\n",
            "Máximo valor anómalo en H2S : 0.4993595843046972\n",
            "Valor mínimo en H2S : 0.3709400594804564\n",
            "Número de outliers en HCNM : 43\n",
            "Máximo valor anómalo en HCNM : 371.7952080547621\n",
            "Valor mínimo en HCNM : 0.0\n",
            "Número de outliers en HCT : 0\n",
            "Valor mínimo en HCT : nan\n",
            "Número de outliers en HRI : 5\n",
            "Máximo valor anómalo en HRI : 104.04158333333334\n",
            "Valor mínimo en HRI : 10.625\n",
            "Número de outliers en IUV : 123\n",
            "Máximo valor anómalo en IUV : 49.02634259259258\n",
            "Valor mínimo en IUV : 0.0\n",
            "Número de outliers en PB : 967\n",
            "Máximo valor anómalo en PB : 146623.557916206\n",
            "Valor mínimo en PB : 0.0\n",
            "Número de outliers en PP : 17021\n",
            "Máximo valor anómalo en PP : 221817.21\n",
            "Valor mínimo en PP : 0.0\n",
            "Número de outliers en PST : 0\n",
            "Valor mínimo en PST : nan\n",
            "Número de outliers en RS : 6246\n",
            "Máximo valor anómalo en RS : 1041947.6238083332\n",
            "Valor mínimo en RS : 0.0\n",
            "Número de outliers en TMPI : 1875\n",
            "Máximo valor anómalo en TMPI : 8268.433333333332\n",
            "Valor mínimo en TMPI : 0.0288605331363079\n",
            "Número de outliers en UVA : 500\n",
            "Máximo valor anómalo en UVA : 639.6262344897445\n",
            "Valor mínimo en UVA : 0.0\n",
            "Número de outliers en XIL : 49\n",
            "Máximo valor anómalo en XIL : 0.2739583333333333\n",
            "Valor mínimo en XIL : 0.0\n"
          ]
        }
      ],
      "source": [
        "#Aplicado a stations_daily.csv\n",
        "relevant_cols = ['PM2.5', 'PM10', 'NOx', 'O3', 'CO', 'HR',\n",
        "       'NO', 'NO2', 'TMP', 'BEN', 'CH4', 'CN', 'CO2', 'H2S', 'HCNM', 'HCT',\n",
        "       'HRI', 'IUV', 'PB', 'PP', 'PST', 'RS', 'TMPI', 'UVA', 'XIL'] \n",
        "\n",
        "df_relevant = DAQI[relevant_cols]\n",
        "\n",
        "Q1 = df_relevant.quantile(0.25)\n",
        "Q3 = df_relevant.quantile(0.75)\n",
        "IQR = Q3 - Q1\n",
        "lower_bound = Q1 - 1.5 * IQR\n",
        "upper_bound = Q3 + 1.5 * IQR\n",
        "min_values = df_relevant.min()\n",
        "\n",
        "outliers = {}\n",
        "for col in relevant_cols:\n",
        "    outliers[col] = df_relevant[(df_relevant[col] < lower_bound[col]) | (df_relevant[col] > upper_bound[col])]\n",
        "\n",
        "for col in relevant_cols:\n",
        "    print('Número de outliers en', col, ':', len(outliers[col]))\n",
        "    if len(outliers[col]) > 0:\n",
        "        print('Máximo valor anómalo en', col, ':', outliers[col][col].max())\n",
        "    print('Valor mínimo en', col, ':', min_values[col])\n",
        "\n",
        "\n"
      ]
    },
    {
      "cell_type": "markdown",
      "metadata": {
        "id": "wh4KYwUoXyn3"
      },
      "source": [
        "#Desarrolla y describe un modelo de K-Means para el dataset"
      ]
    },
    {
      "cell_type": "markdown",
      "source": [
        "Para esta parte se tuvo que hacer un procesamiento previo de los datos, ya que el método utilizado no admite hileras con celdas vacías. De este modo, el método utilizado funcionó, pero hubo otra problemática, que fue la de los *outliers*. Debido a este tipo de datos la gráfica de las particiones del modelo resulta ser poco descriptiva. No se tuvo el tiempo para ello en esta entrega, pero para una exploración más a fondo de estos datos, esto se podría mitigar mediante un procesamiento previo de los datos que tome en cuenta estos datos. "
      ],
      "metadata": {
        "id": "AyKrTLCvAYjM"
      }
    },
    {
      "cell_type": "code",
      "execution_count": null,
      "metadata": {
        "id": "bBxA23FpXzXM"
      },
      "outputs": [],
      "source": [
        "import numpy as np\n",
        "import matplotlib.pyplot as plt\n",
        "import seaborn as sns\n",
        "from scipy.spatial.distance import cdist\n",
        "DAQIkMeans=pd.read_csv('KMeansData.csv') #DAQI=Daily Air Quality Index"
      ]
    },
    {
      "cell_type": "code",
      "source": [
        "plt.figure(figsize=(5,5))\n",
        "nox = DAQIkMeans[\"NOx\"]\n",
        "otres = DAQIkMeans[\"O3\"]\n",
        "doscolumnas = DAQIkMeans[[\"NOx\",\"O3\"]]\n",
        "doscolumnas = np.array(doscolumnas)\n",
        "sns.scatterplot(x = nox, y = otres, data = DAQIkMeans, legend = 'full')"
      ],
      "metadata": {
        "colab": {
          "base_uri": "https://localhost:8080/",
          "height": 483
        },
        "id": "DEpkO0ivwZ4I",
        "outputId": "f5c54ec7-accd-453b-ad91-f2ecc9fbf026"
      },
      "execution_count": null,
      "outputs": [
        {
          "output_type": "execute_result",
          "data": {
            "text/plain": [
              "<Axes: xlabel='NOx', ylabel='O3'>"
            ]
          },
          "metadata": {},
          "execution_count": 58
        },
        {
          "output_type": "display_data",
          "data": {
            "text/plain": [
              "<Figure size 500x500 with 1 Axes>"
            ],
            "image/png": "[encoded data removed]"
          },
          "metadata": {}
        }
      ]
    },
    {
      "cell_type": "code",
      "source": [
        "def kmeans(X, k):\n",
        "    \n",
        "    # Step 1\n",
        "    idx = np.random.choice(len(X), k, replace = False)\n",
        "    centroids = X[idx, :]\n",
        "    \n",
        "    while True:\n",
        "        # Step 2\n",
        "        distances = cdist(X, centroids, 'euclidean')\n",
        "\n",
        "        # Step 3\n",
        "        points = np.array([np.argmin(i) for i in distances])\n",
        "\n",
        "        # Step 4\n",
        "        temp_centroids = []\n",
        "\n",
        "        for cluster in range(k):\n",
        "            # Update\n",
        "            temp_cluster_centroid = X[points == cluster].mean(axis = 0)\n",
        "            temp_centroids.append(temp_cluster_centroid)\n",
        "\n",
        "        temp_centroids = np.array(temp_centroids)\n",
        "\n",
        "        # Step 5\n",
        "        if ( (centroids == temp_centroids).all() ):\n",
        "            # Done\n",
        "            return points, centroids\n",
        "\n",
        "        else:\n",
        "            centroids = temp_centroids"
      ],
      "metadata": {
        "id": "L_lUF9vTvmi0"
      },
      "execution_count": null,
      "outputs": []
    },
    {
      "cell_type": "code",
      "source": [
        "k = 2\n",
        "doscolumnas[:, 0]\n",
        "\n",
        "points, centroids = kmeans(doscolumnas, k)"
      ],
      "metadata": {
        "id": "Vo7QEgAVwzwq"
      },
      "execution_count": null,
      "outputs": []
    },
    {
      "cell_type": "code",
      "source": [
        "df = pd.DataFrame()\n",
        "df['cluster'] = points\n",
        "df['x1'] = doscolumnas[:, 0]\n",
        "df['x2'] = doscolumnas[:, 1]\n",
        "\n",
        "#plot\n",
        "plt.figure(figsize=(8,5))\n",
        "sns.scatterplot(x = 'x1', y = 'x2', hue = 'cluster', data = df, legend = 'full', palette = 'tab20')\n",
        "plt.scatter(centroids[:, 0], centroids[:, 1], c = 'r', label = 'Centroids')\n",
        "plt.legend()"
      ],
      "metadata": {
        "id": "6y8H3SPJ04MC",
        "colab": {
          "base_uri": "https://localhost:8080/",
          "height": 483
        },
        "outputId": "a23171cd-da96-40ce-d226-d2443c54ef70"
      },
      "execution_count": null,
      "outputs": [
        {
          "output_type": "execute_result",
          "data": {
            "text/plain": [
              "<matplotlib.legend.Legend at 0x7fca0c741d80>"
            ]
          },
          "metadata": {},
          "execution_count": 63
        },
        {
          "output_type": "display_data",
          "data": {
            "text/plain": [
              "<Figure size 800x500 with 1 Axes>"
            ],
            "image/png": "[encoded data removed]"
          },
          "metadata": {}
        }
      ]
    },
    {
      "cell_type": "markdown",
      "source": [
        "# The Elbow Method + Sklearn"
      ],
      "metadata": {
        "id": "XcDg_ZA_1s0m"
      }
    },
    {
      "cell_type": "code",
      "source": [
        "from sklearn.cluster import KMeans"
      ],
      "metadata": {
        "id": "yr4B2Go41rfj"
      },
      "execution_count": null,
      "outputs": []
    },
    {
      "cell_type": "code",
      "source": [
        "wcss = []\n",
        "\n",
        "for k in range(1, 20):\n",
        "    kmeans = KMeans(n_clusters = k, random_state = 42).fit(doscolumnas)\n",
        "    wcss.append(kmeans.inertia_)"
      ],
      "metadata": {
        "colab": {
          "base_uri": "https://localhost:8080/"
        },
        "id": "hjn86sJ02B2z",
        "outputId": "91a46276-9b3d-4008-ec8d-6acd74ca1887"
      },
      "execution_count": null,
      "outputs": [
        {
          "output_type": "stream",
          "name": "stderr",
          "text": [
            "/usr/local/lib/python3.10/dist-packages/sklearn/cluster/_kmeans.py:870: FutureWarning: The default value of `n_init` will change from 10 to 'auto' in 1.4. Set the value of `n_init` explicitly to suppress the warning\n",
            "  warnings.warn(\n",
            "/usr/local/lib/python3.10/dist-packages/sklearn/cluster/_kmeans.py:870: FutureWarning: The default value of `n_init` will change from 10 to 'auto' in 1.4. Set the value of `n_init` explicitly to suppress the warning\n",
            "  warnings.warn(\n",
            "/usr/local/lib/python3.10/dist-packages/sklearn/cluster/_kmeans.py:870: FutureWarning: The default value of `n_init` will change from 10 to 'auto' in 1.4. Set the value of `n_init` explicitly to suppress the warning\n",
            "  warnings.warn(\n",
            "/usr/local/lib/python3.10/dist-packages/sklearn/cluster/_kmeans.py:870: FutureWarning: The default value of `n_init` will change from 10 to 'auto' in 1.4. Set the value of `n_init` explicitly to suppress the warning\n",
            "  warnings.warn(\n",
            "/usr/local/lib/python3.10/dist-packages/sklearn/cluster/_kmeans.py:870: FutureWarning: The default value of `n_init` will change from 10 to 'auto' in 1.4. Set the value of `n_init` explicitly to suppress the warning\n",
            "  warnings.warn(\n",
            "/usr/local/lib/python3.10/dist-packages/sklearn/cluster/_kmeans.py:870: FutureWarning: The default value of `n_init` will change from 10 to 'auto' in 1.4. Set the value of `n_init` explicitly to suppress the warning\n",
            "  warnings.warn(\n",
            "/usr/local/lib/python3.10/dist-packages/sklearn/cluster/_kmeans.py:870: FutureWarning: The default value of `n_init` will change from 10 to 'auto' in 1.4. Set the value of `n_init` explicitly to suppress the warning\n",
            "  warnings.warn(\n",
            "/usr/local/lib/python3.10/dist-packages/sklearn/cluster/_kmeans.py:870: FutureWarning: The default value of `n_init` will change from 10 to 'auto' in 1.4. Set the value of `n_init` explicitly to suppress the warning\n",
            "  warnings.warn(\n",
            "/usr/local/lib/python3.10/dist-packages/sklearn/cluster/_kmeans.py:870: FutureWarning: The default value of `n_init` will change from 10 to 'auto' in 1.4. Set the value of `n_init` explicitly to suppress the warning\n",
            "  warnings.warn(\n",
            "/usr/local/lib/python3.10/dist-packages/sklearn/cluster/_kmeans.py:870: FutureWarning: The default value of `n_init` will change from 10 to 'auto' in 1.4. Set the value of `n_init` explicitly to suppress the warning\n",
            "  warnings.warn(\n",
            "/usr/local/lib/python3.10/dist-packages/sklearn/cluster/_kmeans.py:870: FutureWarning: The default value of `n_init` will change from 10 to 'auto' in 1.4. Set the value of `n_init` explicitly to suppress the warning\n",
            "  warnings.warn(\n",
            "/usr/local/lib/python3.10/dist-packages/sklearn/cluster/_kmeans.py:870: FutureWarning: The default value of `n_init` will change from 10 to 'auto' in 1.4. Set the value of `n_init` explicitly to suppress the warning\n",
            "  warnings.warn(\n",
            "/usr/local/lib/python3.10/dist-packages/sklearn/cluster/_kmeans.py:870: FutureWarning: The default value of `n_init` will change from 10 to 'auto' in 1.4. Set the value of `n_init` explicitly to suppress the warning\n",
            "  warnings.warn(\n",
            "/usr/local/lib/python3.10/dist-packages/sklearn/cluster/_kmeans.py:870: FutureWarning: The default value of `n_init` will change from 10 to 'auto' in 1.4. Set the value of `n_init` explicitly to suppress the warning\n",
            "  warnings.warn(\n",
            "/usr/local/lib/python3.10/dist-packages/sklearn/cluster/_kmeans.py:870: FutureWarning: The default value of `n_init` will change from 10 to 'auto' in 1.4. Set the value of `n_init` explicitly to suppress the warning\n",
            "  warnings.warn(\n",
            "/usr/local/lib/python3.10/dist-packages/sklearn/cluster/_kmeans.py:870: FutureWarning: The default value of `n_init` will change from 10 to 'auto' in 1.4. Set the value of `n_init` explicitly to suppress the warning\n",
            "  warnings.warn(\n",
            "/usr/local/lib/python3.10/dist-packages/sklearn/cluster/_kmeans.py:870: FutureWarning: The default value of `n_init` will change from 10 to 'auto' in 1.4. Set the value of `n_init` explicitly to suppress the warning\n",
            "  warnings.warn(\n",
            "/usr/local/lib/python3.10/dist-packages/sklearn/cluster/_kmeans.py:870: FutureWarning: The default value of `n_init` will change from 10 to 'auto' in 1.4. Set the value of `n_init` explicitly to suppress the warning\n",
            "  warnings.warn(\n",
            "/usr/local/lib/python3.10/dist-packages/sklearn/cluster/_kmeans.py:870: FutureWarning: The default value of `n_init` will change from 10 to 'auto' in 1.4. Set the value of `n_init` explicitly to suppress the warning\n",
            "  warnings.warn(\n"
          ]
        }
      ]
    },
    {
      "cell_type": "markdown",
      "source": [
        "# Plot Elbow Method"
      ],
      "metadata": {
        "id": "AC1Ohe5O5-aS"
      }
    },
    {
      "cell_type": "code",
      "source": [
        "plt.plot(range(1, 20), wcss)\n",
        "plt.title(\"Elbow Method for KMeans\")\n",
        "plt.xlabel(\"K\")\n",
        "plt.ylabel(\"WCSS/Inertia/Score\")\n",
        "plt.show()"
      ],
      "metadata": {
        "id": "pcQH8sCs58cn",
        "colab": {
          "base_uri": "https://localhost:8080/",
          "height": 472
        },
        "outputId": "0326eb79-dd8a-41ba-81ad-d55cf6cb37f8"
      },
      "execution_count": null,
      "outputs": [
        {
          "output_type": "display_data",
          "data": {
            "text/plain": [
              "<Figure size 640x480 with 1 Axes>"
            ],
            "image/png": "[encoded data removed]"
          },
          "metadata": {}
        }
      ]
    },
    {
      "cell_type": "markdown",
      "source": [
        "Nuestro equipo está conformado por \n",
        "\n",
        "Hector Emil Grijalva Sanchez A01643459\n",
        "Adolfo Hernández Signoret A01637184\n",
        "David Alejandro González Ibarra A01633817\n",
        "Santiago De Lira Robles A01635258\n",
        "\n",
        "\n",
        "Nuestro data set habla de la contaminación diaria en México desde el año 2010 hasta el 2021. Tiene el promedio al día de la contaminación por hora y lleva un registro de los gases y partículas en el aire en cada momento. \n",
        "\n",
        "Nos pareció muy interesante esta información ya que los efectos que tiene la contaminación del aire en los habitantes del país son la causa de muchas enferemdades respiratorias que depende de la gravedad, pueden llevar a la muerte. \n",
        "\n",
        "El objetivo del uso de K-Means sobre estos datos era el de encontrar anomalías en los datos correspondientes al ozono. El ozono es muy importante para el bien de la atmósfera a nivel mundial. Se compararon entonces los niveles de ozono y Nox, para definir potenciales causas diferentes por las cuales el nivel de ozono pudiera bajar debido al nivel de óxido nitroso. Este último es un compuesto potencialmente dañino y a eso se debe el interés en este comportamiento.\n"
      ],
      "metadata": {
        "id": "7rz-NbaoKH-o"
      }
    }
  ],
  "metadata": {
    "colab": {
      "provenance": []
    },
    "kernelspec": {
      "display_name": "Python 3",
      "name": "python3"
    },
    "language_info": {
      "name": "python"
    }
  },
  "nbformat": 4,
  "nbformat_minor": 0
}